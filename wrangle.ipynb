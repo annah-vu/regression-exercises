{
 "cells": [
  {
   "cell_type": "code",
   "execution_count": 1,
   "metadata": {},
   "outputs": [],
   "source": [
    "#import some stuff\n",
    "import pandas as pd\n",
    "import numpy as np\n",
    "import matplotlib.pyplot as plt\n",
    "from wrangle import get_telco_charge_data, wrangle_telco"
   ]
  },
  {
   "cell_type": "code",
   "execution_count": 2,
   "metadata": {},
   "outputs": [],
   "source": [
    "#let's get our data! It's going to be customer_id, monthly_charges, tenure, and total_charges \n",
    "# for customers with 2 year contracts\n",
    "df = get_telco_charge_data()"
   ]
  },
  {
   "cell_type": "code",
   "execution_count": 3,
   "metadata": {},
   "outputs": [
    {
     "data": {
      "text/html": [
       "<div>\n",
       "<style scoped>\n",
       "    .dataframe tbody tr th:only-of-type {\n",
       "        vertical-align: middle;\n",
       "    }\n",
       "\n",
       "    .dataframe tbody tr th {\n",
       "        vertical-align: top;\n",
       "    }\n",
       "\n",
       "    .dataframe thead th {\n",
       "        text-align: right;\n",
       "    }\n",
       "</style>\n",
       "<table border=\"1\" class=\"dataframe\">\n",
       "  <thead>\n",
       "    <tr style=\"text-align: right;\">\n",
       "      <th></th>\n",
       "      <th>customer_id</th>\n",
       "      <th>monthly_charges</th>\n",
       "      <th>tenure</th>\n",
       "      <th>total_charges</th>\n",
       "    </tr>\n",
       "  </thead>\n",
       "  <tbody>\n",
       "    <tr>\n",
       "      <th>0</th>\n",
       "      <td>0002-ORFBO</td>\n",
       "      <td>65.60</td>\n",
       "      <td>9</td>\n",
       "      <td>593.3</td>\n",
       "    </tr>\n",
       "    <tr>\n",
       "      <th>1</th>\n",
       "      <td>0020-JDNXP</td>\n",
       "      <td>61.25</td>\n",
       "      <td>34</td>\n",
       "      <td>1993.2</td>\n",
       "    </tr>\n",
       "    <tr>\n",
       "      <th>2</th>\n",
       "      <td>0022-TCJCI</td>\n",
       "      <td>62.70</td>\n",
       "      <td>45</td>\n",
       "      <td>2791.5</td>\n",
       "    </tr>\n",
       "    <tr>\n",
       "      <th>3</th>\n",
       "      <td>0068-FIGTF</td>\n",
       "      <td>78.20</td>\n",
       "      <td>27</td>\n",
       "      <td>2078.95</td>\n",
       "    </tr>\n",
       "    <tr>\n",
       "      <th>4</th>\n",
       "      <td>0074-HDKDG</td>\n",
       "      <td>61.60</td>\n",
       "      <td>25</td>\n",
       "      <td>1611</td>\n",
       "    </tr>\n",
       "  </tbody>\n",
       "</table>\n",
       "</div>"
      ],
      "text/plain": [
       "  customer_id  monthly_charges  tenure total_charges\n",
       "0  0002-ORFBO            65.60       9         593.3\n",
       "1  0020-JDNXP            61.25      34        1993.2\n",
       "2  0022-TCJCI            62.70      45        2791.5\n",
       "3  0068-FIGTF            78.20      27       2078.95\n",
       "4  0074-HDKDG            61.60      25          1611"
      ]
     },
     "execution_count": 3,
     "metadata": {},
     "output_type": "execute_result"
    }
   ],
   "source": [
    "#making sure it looks as it would on SQL\n",
    "df.head()"
   ]
  },
  {
   "cell_type": "code",
   "execution_count": 4,
   "metadata": {},
   "outputs": [
    {
     "name": "stdout",
     "output_type": "stream",
     "text": [
      "<class 'pandas.core.frame.DataFrame'>\n",
      "RangeIndex: 1473 entries, 0 to 1472\n",
      "Data columns (total 4 columns):\n",
      " #   Column           Non-Null Count  Dtype  \n",
      "---  ------           --------------  -----  \n",
      " 0   customer_id      1473 non-null   object \n",
      " 1   monthly_charges  1473 non-null   float64\n",
      " 2   tenure           1473 non-null   int64  \n",
      " 3   total_charges    1473 non-null   object \n",
      "dtypes: float64(1), int64(1), object(2)\n",
      "memory usage: 46.2+ KB\n"
     ]
    }
   ],
   "source": [
    "#checking info, I'm going to check for nulls and also change total_charges to a numeric d-type.\n",
    "df.info()"
   ]
  },
  {
   "cell_type": "code",
   "execution_count": 5,
   "metadata": {},
   "outputs": [],
   "source": [
    "#replace special blanks with NaN\n",
    "df = df.replace(r'^\\s*$', np.NaN, regex=True)"
   ]
  },
  {
   "cell_type": "code",
   "execution_count": 7,
   "metadata": {},
   "outputs": [
    {
     "data": {
      "text/plain": [
       "customer_id        0\n",
       "monthly_charges    0\n",
       "tenure             0\n",
       "total_charges      1\n",
       "dtype: int64"
      ]
     },
     "execution_count": 7,
     "metadata": {},
     "output_type": "execute_result"
    }
   ],
   "source": [
    "#1 entry in total_charges is NaN\n",
    "df.isna().sum()"
   ]
  },
  {
   "cell_type": "code",
   "execution_count": 8,
   "metadata": {},
   "outputs": [],
   "source": [
    "#change total_charges to numeric, and then filled in NaN value with mean of total_charges\n",
    "df.total_charges = pd.to_numeric(df.total_charges, errors='coerce').astype('float64')\n",
    "df.total_charges = df.total_charges.fillna(value=df.total_charges.mean()).astype('float64')"
   ]
  },
  {
   "cell_type": "code",
   "execution_count": 9,
   "metadata": {},
   "outputs": [
    {
     "data": {
      "text/plain": [
       "customer_id        0\n",
       "monthly_charges    0\n",
       "tenure             0\n",
       "total_charges      0\n",
       "dtype: int64"
      ]
     },
     "execution_count": 9,
     "metadata": {},
     "output_type": "execute_result"
    }
   ],
   "source": [
    "#checking to make sure the value was filled in\n",
    "df.isna().sum()"
   ]
  },
  {
   "cell_type": "code",
   "execution_count": 11,
   "metadata": {},
   "outputs": [
    {
     "name": "stdout",
     "output_type": "stream",
     "text": [
      "<class 'pandas.core.frame.DataFrame'>\n",
      "RangeIndex: 1473 entries, 0 to 1472\n",
      "Data columns (total 4 columns):\n",
      " #   Column           Non-Null Count  Dtype  \n",
      "---  ------           --------------  -----  \n",
      " 0   customer_id      1473 non-null   object \n",
      " 1   monthly_charges  1473 non-null   float64\n",
      " 2   tenure           1473 non-null   int64  \n",
      " 3   total_charges    1473 non-null   float64\n",
      "dtypes: float64(2), int64(1), object(1)\n",
      "memory usage: 46.2+ KB\n"
     ]
    }
   ],
   "source": [
    "#checking to make sure the info looks good\n",
    "df.info()"
   ]
  },
  {
   "cell_type": "code",
   "execution_count": 2,
   "metadata": {},
   "outputs": [],
   "source": [
    "#restarted kernal, testing out this cool wrangle_telco to see if it works!\n",
    "df = wrangle_telco()"
   ]
  },
  {
   "cell_type": "code",
   "execution_count": 3,
   "metadata": {},
   "outputs": [
    {
     "data": {
      "text/html": [
       "<div>\n",
       "<style scoped>\n",
       "    .dataframe tbody tr th:only-of-type {\n",
       "        vertical-align: middle;\n",
       "    }\n",
       "\n",
       "    .dataframe tbody tr th {\n",
       "        vertical-align: top;\n",
       "    }\n",
       "\n",
       "    .dataframe thead th {\n",
       "        text-align: right;\n",
       "    }\n",
       "</style>\n",
       "<table border=\"1\" class=\"dataframe\">\n",
       "  <thead>\n",
       "    <tr style=\"text-align: right;\">\n",
       "      <th></th>\n",
       "      <th>customer_id</th>\n",
       "      <th>monthly_charges</th>\n",
       "      <th>tenure</th>\n",
       "      <th>total_charges</th>\n",
       "    </tr>\n",
       "  </thead>\n",
       "  <tbody>\n",
       "    <tr>\n",
       "      <th>0</th>\n",
       "      <td>0002-ORFBO</td>\n",
       "      <td>65.60</td>\n",
       "      <td>9</td>\n",
       "      <td>593.30</td>\n",
       "    </tr>\n",
       "    <tr>\n",
       "      <th>1</th>\n",
       "      <td>0020-JDNXP</td>\n",
       "      <td>61.25</td>\n",
       "      <td>34</td>\n",
       "      <td>1993.20</td>\n",
       "    </tr>\n",
       "    <tr>\n",
       "      <th>2</th>\n",
       "      <td>0022-TCJCI</td>\n",
       "      <td>62.70</td>\n",
       "      <td>45</td>\n",
       "      <td>2791.50</td>\n",
       "    </tr>\n",
       "    <tr>\n",
       "      <th>3</th>\n",
       "      <td>0068-FIGTF</td>\n",
       "      <td>78.20</td>\n",
       "      <td>27</td>\n",
       "      <td>2078.95</td>\n",
       "    </tr>\n",
       "    <tr>\n",
       "      <th>4</th>\n",
       "      <td>0074-HDKDG</td>\n",
       "      <td>61.60</td>\n",
       "      <td>25</td>\n",
       "      <td>1611.00</td>\n",
       "    </tr>\n",
       "  </tbody>\n",
       "</table>\n",
       "</div>"
      ],
      "text/plain": [
       "  customer_id  monthly_charges  tenure  total_charges\n",
       "0  0002-ORFBO            65.60       9         593.30\n",
       "1  0020-JDNXP            61.25      34        1993.20\n",
       "2  0022-TCJCI            62.70      45        2791.50\n",
       "3  0068-FIGTF            78.20      27        2078.95\n",
       "4  0074-HDKDG            61.60      25        1611.00"
      ]
     },
     "execution_count": 3,
     "metadata": {},
     "output_type": "execute_result"
    }
   ],
   "source": [
    "#oooh it's working\n",
    "df.head()"
   ]
  },
  {
   "cell_type": "code",
   "execution_count": 4,
   "metadata": {},
   "outputs": [
    {
     "name": "stdout",
     "output_type": "stream",
     "text": [
      "<class 'pandas.core.frame.DataFrame'>\n",
      "Int64Index: 1473 entries, 0 to 1472\n",
      "Data columns (total 4 columns):\n",
      " #   Column           Non-Null Count  Dtype  \n",
      "---  ------           --------------  -----  \n",
      " 0   customer_id      1473 non-null   object \n",
      " 1   monthly_charges  1473 non-null   float64\n",
      " 2   tenure           1473 non-null   int64  \n",
      " 3   total_charges    1473 non-null   float64\n",
      "dtypes: float64(2), int64(1), object(1)\n",
      "memory usage: 57.5+ KB\n"
     ]
    }
   ],
   "source": [
    "#eeeeeeee the total_charges are a float!!!\n",
    "df.info()"
   ]
  },
  {
   "cell_type": "code",
   "execution_count": 5,
   "metadata": {},
   "outputs": [
    {
     "data": {
      "text/plain": [
       "customer_id        0\n",
       "monthly_charges    0\n",
       "tenure             0\n",
       "total_charges      0\n",
       "dtype: int64"
      ]
     },
     "execution_count": 5,
     "metadata": {},
     "output_type": "execute_result"
    }
   ],
   "source": [
    "#I'm so excited\n",
    "df.isna().sum()"
   ]
  },
  {
   "cell_type": "code",
   "execution_count": null,
   "metadata": {},
   "outputs": [],
   "source": []
  }
 ],
 "metadata": {
  "kernelspec": {
   "display_name": "Python 3",
   "language": "python",
   "name": "python3"
  },
  "language_info": {
   "codemirror_mode": {
    "name": "ipython",
    "version": 3
   },
   "file_extension": ".py",
   "mimetype": "text/x-python",
   "name": "python",
   "nbconvert_exporter": "python",
   "pygments_lexer": "ipython3",
   "version": "3.8.5"
  }
 },
 "nbformat": 4,
 "nbformat_minor": 4
}
